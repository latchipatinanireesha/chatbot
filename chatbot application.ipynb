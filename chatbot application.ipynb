{
 "cells": [
  {
   "cell_type": "code",
   "execution_count": null,
   "id": "2c330b7b-1889-4472-8c66-91cf57107ef9",
   "metadata": {},
   "outputs": [],
   "source": [
    "\\!pip install nltk\n",
    "import nltk\n",
    "from nltk.chat.util import Chat, reflections\n",
    "nltk.download('punkt')\n",
    "pairs = [\n",
    "    [\n",
    "        r\"my name is (.*)\",\n",
    "        [\"Hello %1, how can I assist you today?\"]\n",
    "    ],\n",
    "    [\n",
    "        r\"(hi|hello|hey|holla|hola)\",\n",
    "        [\"Hey there!\", \"Hello!\", \"Hi!\"]\n",
    "    ],\n",
    "    [\n",
    "        r\"what is your name ?\",\n",
    "        [\"I am a simple chatbot created using Python and NLTK.\"]\n",
    "    ],\n",
    "    [\n",
    "        r\"how are you ?\",\n",
    "        [\"I'm doing well, thank you!\", \"I'm here to assist you.\"]\n",
    "    ],\n",
    "    [\n",
    "        r\"sorry (.*)\",\n",
    "        [\"No worries!\", \"It's okay, how can I help you?\"]\n",
    "    ],\n",
    "    [\n",
    "        r\"I am fine\",\n",
    "        [\"Great to hear that!\", \"Awesome! How can I assist you today?\"]\n",
    "    ],\n",
    "    [\n",
    "        r\"(.*) (location|city) ?\",\n",
    "        [\"I'm a virtual assistant, I exist everywhere!\"]\n",
    "    ],\n",
    "    [\n",
    "        r\"(.*) created you ?\",\n",
    "        [\"I was created by a Python enthusiast using the NLTK library.\"]\n",
    "    ],\n",
    "    [\n",
    "        r\"(.*) (help|support) (.*)\",\n",
    "        [\"Sure, I'm here to help. What do you need assistance with?\"]\n",
    "    ],\n",
    "    [\n",
    "        r\"quit\",\n",
    "        [\"Goodbye! Have a great day.\"]\n",
    "    ],\n",
    "    [\n",
    "        r\"(.*)\",\n",
    "        [\"I'm not sure I understand. Can you please rephrase?\"]\n",
    "    ]\n",
    "]\n",
    "chatbot = Chat(pairs, reflections)\n",
    "\n",
    "chatbot.converse()\n"
   ]
  },
  {
   "cell_type": "code",
   "execution_count": null,
   "id": "2cd453f8",
   "metadata": {},
   "outputs": [],
   "source": []
  }
 ],
 "metadata": {
  "kernelspec": {
   "display_name": "Python [conda env:base] *",
   "language": "python",
   "name": "conda-base-py"
  },
  "language_info": {
   "codemirror_mode": {
    "name": "ipython",
    "version": 3
   },
   "file_extension": ".py",
   "mimetype": "text/x-python",
   "name": "python",
   "nbconvert_exporter": "python",
   "pygments_lexer": "ipython3",
   "version": "3.12.7"
  }
 },
 "nbformat": 4,
 "nbformat_minor": 5
}
